{
  "cells": [
    {
      "cell_type": "markdown",
      "metadata": {},
      "source": [
        "# Reference: https://leimao.github.io/article/Neural-Networks-Quantization/#Floating-Point-Quantization"
      ]
    },
    {
      "cell_type": "code",
      "execution_count": 1,
      "metadata": {
        "id": "96dUBfQcEFGA"
      },
      "outputs": [],
      "source": [
        "import numpy as np"
      ]
    },
    {
      "attachments": {},
      "cell_type": "markdown",
      "metadata": {
        "id": "3oCPApldFOLn"
      },
      "source": [
        "### 1.Hàm tính giá trị độ co giãn \n",
        "---"
      ]
    },
    {
      "attachments": {},
      "cell_type": "markdown",
      "metadata": {
        "id": "TMFfj4m5FV9d"
      },
      "source": [
        "$$s = \\frac{\\beta - \\alpha}{\\beta_q - \\alpha_q} $$\n"
      ]
    },
    {
      "cell_type": "code",
      "execution_count": 2,
      "metadata": {
        "id": "tQd_Yf63FYao"
      },
      "outputs": [],
      "source": [
        "def calculate_s(alpha, beta, alpha_q, beta_q):\n",
        "    \"\"\"\n",
        "    Hàm thực hiện tính giá trị độ co giãn\n",
        "    Đầu vào:\n",
        "        alpha: Giá trị nhỏ nhất của miền hiện tại\n",
        "        beta: Giá trị lớn nhất của miền hiện tại\n",
        "        alpha_q: Giá trị nhỏ nhất của miền lượng tử hóa\n",
        "        beta_q: Giá trị lớn nhất của miền lượng tử hóa\n",
        "    Đầu ra:\n",
        "        s: Giá trị độ co giãn\n",
        "    \"\"\"\n",
        "    # TODO 1: Tính giá trị độ co giãn\n",
        "    s = (beta - alpha) / (beta_q - alpha_q)\n",
        "    return s"
      ]
    },
    {
      "attachments": {},
      "cell_type": "markdown",
      "metadata": {
        "id": "6wZ5ZTX00Zof"
      },
      "source": [
        "Test code"
      ]
    },
    {
      "cell_type": "code",
      "execution_count": 3,
      "metadata": {
        "colab": {
          "base_uri": "https://localhost:8080/"
        },
        "id": "ZNlBgJULJuSt",
        "outputId": "a285a5b4-e817-49ee-cb7d-a4de3f7e079c"
      },
      "outputs": [
        {
          "name": "stdout",
          "output_type": "stream",
          "text": [
            "s: 0.1875\n"
          ]
        }
      ],
      "source": [
        "try:\n",
        "    alpha = -5.0\n",
        "    beta = 10.0\n",
        "    alpha_q = -30\n",
        "    beta_q = 50\n",
        "    print('s: {}'.format(calculate_s(alpha, beta, alpha_q, beta_q)))\n",
        "except Exception as e:\n",
        "    print(\"Lỗi thực thi: {}\", e)"
      ]
    },
    {
      "attachments": {},
      "cell_type": "markdown",
      "metadata": {
        "id": "wmA5fVh6KQZv"
      },
      "source": [
        "**Kết quả mong đợi**\n",
        "\n",
        "s: 0.1875"
      ]
    },
    {
      "attachments": {},
      "cell_type": "markdown",
      "metadata": {
        "id": "p9lw1-Go0gF6"
      },
      "source": [
        "### 2. Tính giá trị điểm 0\n",
        "---"
      ]
    },
    {
      "attachments": {},
      "cell_type": "markdown",
      "metadata": {
        "id": "BgZVhO0aFysa"
      },
      "source": [
        "$z = \\text{round}(z) = \\text{round}(\\frac{\\beta\\alpha_q - \\alpha\\beta_q}{\\beta - \\alpha})$. "
      ]
    },
    {
      "cell_type": "code",
      "execution_count": 4,
      "metadata": {
        "id": "WUTUKA4iFrV0"
      },
      "outputs": [],
      "source": [
        "def calculate_z(alpha, beta, alpha_q, beta_q):\n",
        "    \"\"\"\n",
        "    Hàm thực hiện tính giá trị điểm 0\n",
        "    Đầu vào:\n",
        "        alpha: Giá trị nhỏ nhất của miền hiện tại\n",
        "        beta: Giá trị lớn nhất của miền hiện tại\n",
        "        alpha_q: Giá trị nhỏ nhất của miền lượng tử hóa\n",
        "        beta_q: Giá trị lớn nhất của miền lượng tử hóa\n",
        "    Đầu ra:\n",
        "        z: Giá trị điểm 0\n",
        "    \"\"\"\n",
        "    # TODO 2: Tính giá trị điểm 0\n",
        "    z = round((beta*alpha_q - alpha*beta_q) / (beta - alpha))\n",
        "    return z"
      ]
    },
    {
      "attachments": {},
      "cell_type": "markdown",
      "metadata": {
        "id": "HjaSvhuWLr6x"
      },
      "source": [
        "Test code"
      ]
    },
    {
      "cell_type": "code",
      "execution_count": 5,
      "metadata": {
        "colab": {
          "base_uri": "https://localhost:8080/"
        },
        "id": "pVbtTjHUKmhS",
        "outputId": "5a2be5e0-6f7f-4347-c657-1e1185a43428"
      },
      "outputs": [
        {
          "name": "stdout",
          "output_type": "stream",
          "text": [
            "z: -3\n"
          ]
        }
      ],
      "source": [
        "try:\n",
        "    alpha = -5.0\n",
        "    beta = 10.0\n",
        "    alpha_q = -30\n",
        "    beta_q = 50\n",
        "    print('z: {}'.format(calculate_z(alpha, beta, alpha_q, beta_q)))\n",
        "except Exception as e:\n",
        "    print(\"Lỗi thực thi: {}\", e)"
      ]
    },
    {
      "attachments": {},
      "cell_type": "markdown",
      "metadata": {
        "id": "jbrnBM4nK0Cb"
      },
      "source": [
        "**Kết quả mong đợi**\n",
        "\n",
        "z: -3"
      ]
    },
    {
      "attachments": {},
      "cell_type": "markdown",
      "metadata": {
        "id": "uId400nDK6X6"
      },
      "source": [
        "### 3. Hàm tính đồng thời s và z\n",
        "---"
      ]
    },
    {
      "attachments": {},
      "cell_type": "markdown",
      "metadata": {
        "id": "B_J9ms6gLNWx"
      },
      "source": [
        "Ví dụ các giá trị kiểu số nguyên 8 (int8) sẽ là số nguyên nằm trong đoạn $[-2^7, 2^7-1] = [-128, 127]$"
      ]
    },
    {
      "cell_type": "code",
      "execution_count": 6,
      "metadata": {
        "id": "_p-SQoXuGORl"
      },
      "outputs": [],
      "source": [
        "def calculate_s_and_z_int(alpha, beta, exp):\n",
        "    \"\"\"\n",
        "    Hàm thực hiện tính giá trị độ co giãn và điểm 0\n",
        "    Đầu vào:\n",
        "        alpha: Giá trị nhỏ nhất của miền hiện tại\n",
        "        beta: Giá trị lớn nhất của miền hiện tại\n",
        "        exp: Giá trị bit đại diện cho miền số nguyên mục tiêu\n",
        "            - Ví dụ exp = 8 có nghĩa là miền mục tiêu là int8\n",
        "    Đầu ra:\n",
        "        s, z: giá trị độ co giãn và điểm 0\n",
        "    \"\"\"\n",
        "\n",
        "    # TODO 3: Tìm ra miền số nguyên mục tiêu\n",
        "    alpha_q = -(2**(exp-1))\n",
        "    beta_q = 2**(exp-1) -1\n",
        "    # TODO 4: Tính s và z sử dụng những hàm bên trên\n",
        "    s = calculate_s(alpha, beta, alpha_q, beta_q)\n",
        "    z = calculate_z(alpha, beta, alpha_q, beta_q)\n",
        "    return s, z"
      ]
    },
    {
      "attachments": {},
      "cell_type": "markdown",
      "metadata": {
        "id": "u-U6mRwALp9h"
      },
      "source": [
        "Test code"
      ]
    },
    {
      "cell_type": "code",
      "execution_count": 7,
      "metadata": {
        "colab": {
          "base_uri": "https://localhost:8080/"
        },
        "id": "d9xpe1QaLpfD",
        "outputId": "c04f781d-6f45-4651-b751-0d8fbc45aa7b"
      },
      "outputs": [
        {
          "name": "stdout",
          "output_type": "stream",
          "text": [
            "s_test: 0.0196078431372549\n",
            "z_test: -26\n"
          ]
        }
      ],
      "source": [
        "try:\n",
        "    alpha = -2.0\n",
        "    beta = 3.0\n",
        "    s_test, z_test = calculate_s_and_z_int(alpha, beta, 8)\n",
        "    print('s_test: {}'.format(s_test))\n",
        "    print('z_test: {}'.format(z_test))\n",
        "except Exception as e:\n",
        "    print(\"Lỗi thực thi: {}\", e)"
      ]
    },
    {
      "attachments": {},
      "cell_type": "markdown",
      "metadata": {
        "id": "Ni1NMue8M9lp"
      },
      "source": [
        "**Kết quả mong đợi** (Xấp xỉ)\n",
        "\n",
        "s_test: 0.0196078431372549 \\\n",
        "z_test: -26\n"
      ]
    },
    {
      "attachments": {},
      "cell_type": "markdown",
      "metadata": {
        "id": "EhDXPr81EfYS"
      },
      "source": [
        "### 4. Hàm lượng tử hóa một giá trị về miền số nguyên\n",
        "---"
      ]
    },
    {
      "attachments": {},
      "cell_type": "markdown",
      "metadata": {
        "id": "56Qj7m1MEbbC"
      },
      "source": [
        "$$x_q = \\text{clip}\\Big( \\text{round}\\big(\\frac{1}{s} x + z\\big), \\alpha_q, \\beta_q \\Big)$$"
      ]
    },
    {
      "cell_type": "code",
      "execution_count": 8,
      "metadata": {
        "id": "LM2saYMZDjif"
      },
      "outputs": [],
      "source": [
        "def quantize_int(x, s, z, exp):\n",
        "    \"\"\"\n",
        "    Hàm thực hiện lượng tử hóa\n",
        "    Đầu vào:\n",
        "        x: giá trị muốn lượng tử hóa\n",
        "    Đầu ra:\n",
        "        x_q: giá trị đã lượng tử hóa\n",
        "    \"\"\"\n",
        "    # TODO 5: Tìm ra miền số nguyên mục tiêu\n",
        "    alpha_q = -(2**(exp-1))\n",
        "    beta_q = 2**(exp-1) -1\n",
        "    # Áp dụng công thức lượng tử \n",
        "    # Sau đó làm tròn giá trị\n",
        "    # Ví dụ 3.2 còn 3.0 và 3.6 thành 4.0\n",
        "    x_q = np.round((1/s)*x + z)\n",
        "    # Cắt giá trị nếu nằm ngoài miền mục tiêu\n",
        "    x_q = np.clip(x_q, alpha_q, beta_q)\n",
        "    # Ép về miền tương ứng\n",
        "    if exp == 8:\n",
        "        x_q = x_q.astype(np.int8)\n",
        "    else:\n",
        "        x_q = x_q.astype(np.int16)\n",
        "    return x_q"
      ]
    },
    {
      "attachments": {},
      "cell_type": "markdown",
      "metadata": {
        "id": "OALIL69KFGAN"
      },
      "source": [
        "Test Code"
      ]
    },
    {
      "cell_type": "code",
      "execution_count": 9,
      "metadata": {
        "colab": {
          "base_uri": "https://localhost:8080/"
        },
        "id": "yJW_9jwKFF0_",
        "outputId": "50ad4163-cca2-4ed4-b9e1-57894995edaf"
      },
      "outputs": [
        {
          "name": "stdout",
          "output_type": "stream",
          "text": [
            "x_q: -34\n"
          ]
        }
      ],
      "source": [
        "try:\n",
        "    exp = 8\n",
        "    alpha = -100\n",
        "    beta = 200\n",
        "    s, z = calculate_s_and_z_int(alpha, beta, exp)\n",
        "    x = 10\n",
        "    x_q = quantize_int(x, s, z, exp)\n",
        "    print('x_q: {}'.format(x_q))\n",
        "except Exception as e:\n",
        "    print(\"Lỗi thực thi: {}\", e)"
      ]
    },
    {
      "attachments": {},
      "cell_type": "markdown",
      "metadata": {
        "id": "8oEZk_zCPRq3"
      },
      "source": [
        "**Kết quả mong đợi** \n",
        "\n",
        "x_q: -34\n"
      ]
    },
    {
      "attachments": {},
      "cell_type": "markdown",
      "metadata": {
        "id": "HyGY6fVG2h2P"
      },
      "source": [
        "### 5. Hàm khởi tạo một ma trận ngẫu nhiên các giá trị theo phân phối đều (Uniform) kiểu float32\n",
        "---"
      ]
    },
    {
      "cell_type": "code",
      "execution_count": 10,
      "metadata": {
        "id": "u2U53UF52loJ"
      },
      "outputs": [],
      "source": [
        "def create_uniform_matrix(size, low, high):\n",
        "    \"\"\"\n",
        "    Hàm tạo một ma trận bất kỳ\n",
        "    Đầu vào:\n",
        "        size: Chiều của ma trận\n",
        "            - Ví dụ (2, 3)\n",
        "        low: Giá trị nhỏ nhất\n",
        "        high: Giá trị lớn nhất\n",
        "    Đầu ra:\n",
        "        matrix: Ma trận với những giá trị ngẫu nhiên được khởi tạo\n",
        "    \"\"\"\n",
        "    matrix = np.random.uniform(low=low, high=high, size=size).astype(np.float32)\n",
        "    return matrix"
      ]
    },
    {
      "cell_type": "code",
      "execution_count": 11,
      "metadata": {
        "colab": {
          "base_uri": "https://localhost:8080/"
        },
        "id": "zPxgJ1tx4FxI",
        "outputId": "b7613af6-cb3b-4f89-e5a7-f5f2933fcbb0"
      },
      "outputs": [
        {
          "name": "stdout",
          "output_type": "stream",
          "text": [
            "[[7.08511   8.601623  5.0005717]\n",
            " [6.511663  5.7337794 5.461693 ]]\n"
          ]
        }
      ],
      "source": [
        "try:\n",
        "    random_seed = 1\n",
        "    np.random.seed(random_seed)\n",
        "    matrix = create_uniform_matrix((2, 3), 5.0, 10.0)\n",
        "    print(matrix)\n",
        "except Exception as e:\n",
        "    print(\"Lỗi thực thi: {}\", e)"
      ]
    },
    {
      "attachments": {},
      "cell_type": "markdown",
      "metadata": {
        "id": "hJkbaAli4WEo"
      },
      "source": [
        "**Kết quả mong đợi** (Xấp xỉ)\n",
        "\n",
        "```python\n",
        "[[7.08511   8.601623  5.0005717]\n",
        " [6.511663  5.7337794 5.461693 ]]\n",
        "```\n"
      ]
    },
    {
      "attachments": {},
      "cell_type": "markdown",
      "metadata": {
        "id": "GP5BfPFPRX5a"
      },
      "source": [
        "### 6. Hàm lượng tử hóa một giá trị trong ma trận\n",
        "---"
      ]
    },
    {
      "attachments": {},
      "cell_type": "markdown",
      "metadata": {
        "id": "oyXuveFrUPD3"
      },
      "source": [
        "Phép nhân ma trận có dạng\n",
        "\n",
        "$$\n",
        "Y = XW + b\n",
        "$$\n",
        "\n",
        "Với $$X \\in \\mathbb{R}^{m \\times p}$$ $$W \\in \\mathbb{R}^{p \\times n}$$ và $$b \\in \\mathbb{R}^{n}$$\n",
        "\n",
        "\n",
        "Thiết kế hàm lượng tử một giá trị trong ma trận $Y$\n",
        "\n",
        "- $i$: vị trí dòng\n",
        "- $j$: vị trí cột\n"
      ]
    },
    {
      "attachments": {},
      "cell_type": "markdown",
      "metadata": {
        "id": "kLkjmr_QUNQi"
      },
      "source": [
        "$$\n",
        "\\begin{align} Y_{q,i,j} &= z_Y + \\frac{s_b}{s_Y} (b_{q, j} - z_b) \\\\ &\\qquad + \\frac{s_X s_W}{s_Y} \\Bigg[ \\bigg( \\sum_{k=1}^{p} X_{q,i,k} W_{q, k,j} \\bigg) - \\bigg( z_W \\sum_{k=1}^{p} X_{q,i,k} \\bigg) - \\bigg( z_X \\sum_{k=1}^{p} W_{q, k,j} \\bigg) + p z_X z_W\\Bigg] \\end{align}\n",
        "$$"
      ]
    },
    {
      "cell_type": "code",
      "execution_count": 12,
      "metadata": {
        "id": "ORqvLH777EGS"
      },
      "outputs": [],
      "source": [
        "def quantize_a_position_in_matrix_int(X_q, W_q, b_q, z_X, z_W, z_b, s_X, s_W, s_b, s_Y, i, j, p, exp):\n",
        "    \"\"\"\n",
        "    Hàm lượng tử hóa một giá trị của kết quả nhân ma trận\n",
        "    Đầu vào:\n",
        "        X_q: ma trận X đã lượng tử\n",
        "            - Chiều: (m, p)\n",
        "        W_q: ma trận W đã lượng tử\n",
        "            - Chiều: (p, n)\n",
        "        b_q: vector b đã lượng tử\n",
        "            - Chiều: (1, n)\n",
        "        z_X: giá trị điểm 0 miền mục tiêu X\n",
        "        z_W: giá trị điểm 0 miền mục tiêu W\n",
        "        z_b: giá trị điểm 0 miền mục tiêu b\n",
        "        s_X: giá trị độ co giãn miền mục tiêu X\n",
        "        s_W: giá trị độ co giãn miền mục tiêu W\n",
        "        s_b: giá trị độ co giãn miền mục tiêu b\n",
        "        s_Y: giá trị độ co giãn miền mục tiêu Y\n",
        "        i: Hàng của vị trí\n",
        "        j: Cột của vị trí\n",
        "        p: Chiều p\n",
        "        exp: Số mũ của miền mục tiêu\n",
        "            - Ví dụ 8 có ý nghĩa miền mục tiêu là int8\n",
        "    Đầu ra:\n",
        "        quantized_Y_i_j: Giá trị đã được lượng tử về miền số nguyên mục tiêu\n",
        "    \"\"\"\n",
        "\n",
        "    # Tính các giới hạn của miền\n",
        "    low = -(2**(exp-1))\n",
        "    high = 2**(exp-1) - 1\n",
        "\n",
        "    # TODO 6: Áp dụng công thức lượng tử hóa. Chú ý ép các giá trị của W_q, X_q và b_q về int32 để mở rộng miền tính toán\n",
        "    W_q = W_q.astype(np.int32)\n",
        "    X_q = X_q.astype(np.int32)\n",
        "    b_q = b_q.astype(np.int32)\n",
        "    z_Y = 0\n",
        "    quantized_Y_i_j = z_Y + \\\n",
        "                        ((s_b / s_Y) * (b_q[0][j] - z_b)) + \\\n",
        "                        (((s_X * s_W)/(s_Y)) *(np.sum(X_q[i]*W_q[:,j]) - (z_W*np.sum(X_q[i])) - (z_X*np.sum(W_q[:,j])) + p*z_X*z_W))\n",
        "    # Làm tròn giá trị\n",
        "    quantized_Y_i_j = np.round(quantized_Y_i_j)\n",
        "    # TODO 7: Cắt giá trị trong miền int tương ứng\n",
        "    quantized_Y_i_j = np.clip(quantized_Y_i_j, low, high)\n",
        "    # Nén về dạng int tương tứng\n",
        "    if exp == 8:\n",
        "        quantized_Y_i_j = quantized_Y_i_j.astype(np.int8)\n",
        "    else:\n",
        "        quantized_Y_i_j = quantized_Y_i_j.astype(np.int16)\n",
        "    return quantized_Y_i_j"
      ]
    },
    {
      "attachments": {},
      "cell_type": "markdown",
      "metadata": {
        "id": "Itmtxi-ixG7r"
      },
      "source": [
        "Test code"
      ]
    },
    {
      "cell_type": "code",
      "execution_count": 13,
      "metadata": {
        "id": "7IXByO3NU_pF"
      },
      "outputs": [
        {
          "name": "stdout",
          "output_type": "stream",
          "text": [
            "quantized_Y_i_j: 7\n"
          ]
        }
      ],
      "source": [
        "try:\n",
        "    random_seed = 1\n",
        "    np.random.seed(random_seed)\n",
        "\n",
        "    # Chiều\n",
        "    m = 3\n",
        "    p = 4\n",
        "    n = 5\n",
        "\n",
        "    # ===== X =====\n",
        "    alpha_X = -100.0\n",
        "    beta_X = 100.0\n",
        "    s_X, z_X = calculate_s_and_z_int(alpha=alpha_X, beta=beta_X, exp=8)\n",
        "    X = create_uniform_matrix(( m, p), low=alpha_X, high=beta_X)\n",
        "    X_q = quantize_int(x=X, s=s_X, z=z_X, exp=8)\n",
        "\n",
        "    # ===== W =====\n",
        "    alpha_W = -40.0\n",
        "    beta_W = 20.0\n",
        "    s_W, z_W = calculate_s_and_z_int(alpha=alpha_W, beta=beta_W, exp=8)\n",
        "    W = create_uniform_matrix((p, n), low=alpha_W, high=beta_W)\n",
        "    W_q = quantize_int(x=W, s=s_W, z=z_W, exp=8)\n",
        "\n",
        "    # ===== b =====\n",
        "    alpha_b = -200.0\n",
        "    beta_b = 120.0\n",
        "    s_b, z_b = calculate_s_and_z_int(alpha=alpha_b, beta=beta_b, exp=8)\n",
        "    b = create_uniform_matrix((1, n), low=alpha_b, high=beta_b)\n",
        "    b_q = quantize_int(x=b, s=s_b, z=z_b, exp=8)\n",
        "\n",
        "    # Y\n",
        "    alpha_Y = -4000.0\n",
        "    beta_Y = 4000.0\n",
        "    s_Y, z_Y = calculate_s_and_z_int(alpha=alpha_Y, beta=beta_Y, exp=8)\n",
        "\n",
        "    # Vị trí muốn tính\n",
        "    i = 0\n",
        "    j = 3\n",
        "    exp = 8\n",
        "    quantized_Y_i_j = quantize_a_position_in_matrix_int(X_q, W_q, b_q, z_X, z_W, z_b, s_X, s_W, s_b, s_Y, i, j, p, exp)\n",
        "    print('quantized_Y_i_j: {}'.format(quantized_Y_i_j))\n",
        "\n",
        "\n",
        "except Exception as e:\n",
        "    print('e', e)"
      ]
    },
    {
      "attachments": {},
      "cell_type": "markdown",
      "metadata": {
        "id": "-OzZ75PFw4W3"
      },
      "source": [
        "**Kết quả mong đợi** \n",
        "\n",
        "quantized_Y_i_j: 7\n",
        "\n"
      ]
    },
    {
      "attachments": {},
      "cell_type": "markdown",
      "metadata": {
        "id": "QG1xUceBxJzg"
      },
      "source": [
        "Viết hàm lượng tử hóa toàn bộ ma trận về số nguyên"
      ]
    },
    {
      "cell_type": "code",
      "execution_count": 14,
      "metadata": {
        "id": "fYq_DPHb_cCy"
      },
      "outputs": [],
      "source": [
        "def quantization_matrix_multiplication_int(X_q, W_q, b_q, z_X, z_W, z_b, s_X, s_W, s_b, s_Y, p, exp):\n",
        "    \"\"\"\n",
        "    Hàm lượng tử hóa đầu ra của một phép nhân ma trận\n",
        "    Đầu vào:\n",
        "        X_q: ma trận X đã lượng tử\n",
        "            - Chiều: (m, p)\n",
        "        W_q: ma trận W đã lượng tử\n",
        "            - Chiều: (p, n)\n",
        "        b_q: vector b đã lượng tử\n",
        "            - Chiều: (1, n)\n",
        "        z_X: giá trị điểm 0 miền mục tiêu X\n",
        "        z_W: giá trị điểm 0 miền mục tiêu W\n",
        "        z_b: giá trị điểm 0 miền mục tiêu b\n",
        "        s_X: giá trị độ co giãn miền mục tiêu X\n",
        "        s_W: giá trị độ co giãn miền mục tiêu W\n",
        "        s_b: giá trị độ co giãn miền mục tiêu b\n",
        "        s_Y: giá trị độ co giãn miền mục tiêu Y\n",
        "        p: Chiều p\n",
        "        exp: Số mũ của miền mục tiêu\n",
        "            - Ví dụ 8 có ý nghĩa miền mục tiêu là int8\n",
        "    Đầu ra:\n",
        "        quantized_Y: Ma trận đã được lượng tử về miền số nguyên mục tiêu\n",
        "    \"\"\"\n",
        "    # Tính các giới hạn của miền\n",
        "    low = -(2**(exp-1))\n",
        "    high = 2**(exp-1) - 1\n",
        "\n",
        "    p = W_q.shape[0]\n",
        "\n",
        "    # TODO 8: Áp dụng công thức lượng tử trên toàn ma trận. Chú ý ép các giá trị của W_q, X_q và b_q về int32 để mở rộng miền tính toán\n",
        "    W_q = W_q.astype(np.int32)\n",
        "    X_q = X_q.astype(np.int32)\n",
        "    b_q = b_q.astype(np.int32)\n",
        "\n",
        "    quantized_Y = z_Y + ((s_b / s_Y) * (b_q - z_b)) + \\\n",
        "                ((s_X * s_W)/(s_Y)) * (X_q@W_q - z_W*np.sum(X_q, axis=1).reshape(-1,1) - z_X*np.sum(W_q, axis=0).reshape(1,-1) + p*z_X*z_W)\n",
        "\n",
        "    # TODO 9: Làm tròn giá trị\n",
        "    quantized_Y = np.round(quantized_Y)\n",
        "\n",
        "    # TODO 10: Cắt giá trị trong miền int tương ứng\n",
        "    quantized_Y = np.clip(quantized_Y, low, high)\n",
        "\n",
        "    if exp == 8:\n",
        "        quantized_Y = quantized_Y.astype(np.int8)\n",
        "    else:\n",
        "        quantized_Y = quantized_Y.astype(np.int16)\n",
        "\n",
        "    return quantized_Y"
      ]
    },
    {
      "attachments": {},
      "cell_type": "markdown",
      "metadata": {
        "id": "vhzOY-xix0Re"
      },
      "source": [
        "Test code"
      ]
    },
    {
      "cell_type": "code",
      "execution_count": 15,
      "metadata": {
        "colab": {
          "base_uri": "https://localhost:8080/"
        },
        "id": "u0JOBafbxvth",
        "outputId": "8dcebadc-1502-41c1-dbb3-e81a61b1604d"
      },
      "outputs": [
        {
          "name": "stdout",
          "output_type": "stream",
          "text": [
            "quantized_Y_i_j: \n",
            "[[111   7  19  46]\n",
            " [127  16 124   2]]\n"
          ]
        }
      ],
      "source": [
        "try:\n",
        "    random_seed = 1\n",
        "    np.random.seed(random_seed)\n",
        "\n",
        "    # Chiều\n",
        "    m = 2\n",
        "    p = 3\n",
        "    n = 4\n",
        "\n",
        "    # ===== X =====\n",
        "    alpha_X = -100.0\n",
        "    beta_X = 100.0\n",
        "    s_X, z_X = calculate_s_and_z_int(alpha=alpha_X, beta=beta_X, exp=8)\n",
        "    X = create_uniform_matrix(( m, p), low=alpha_X, high=beta_X)\n",
        "    X_q = quantize_int(x=X, s=s_X, z=z_X, exp=8)\n",
        "\n",
        "    # ===== W =====\n",
        "    alpha_W = -40.0\n",
        "    beta_W = 20.0\n",
        "    s_W, z_W = calculate_s_and_z_int(alpha=alpha_W, beta=beta_W, exp=8)\n",
        "    W = create_uniform_matrix((p, n), low=alpha_W, high=beta_W)\n",
        "    W_q = quantize_int(x=W, s=s_W, z=z_W, exp=8)\n",
        "\n",
        "    # ===== b =====\n",
        "    alpha_b = -200.0\n",
        "    beta_b = 120.0\n",
        "    s_b, z_b = calculate_s_and_z_int(alpha=alpha_b, beta=beta_b, exp=8)\n",
        "    b = create_uniform_matrix((1, n), low=alpha_b, high=beta_b)\n",
        "    b_q = quantize_int(x=b, s=s_b, z=z_b, exp=8)\n",
        "\n",
        "    # Y\n",
        "    alpha_Y = -4000.0\n",
        "    beta_Y = 4000.0\n",
        "    s_Y, z_Y = calculate_s_and_z_int(alpha=alpha_Y, beta=beta_Y, exp=8)\n",
        "\n",
        "    exp = 8\n",
        "    quantized_Y_i_j = quantization_matrix_multiplication_int(X_q, W_q, b_q, z_X, z_W, z_b, s_X, s_W, s_b, s_Y, p, exp)\n",
        "    print('quantized_Y_i_j: \\n{}'.format(quantized_Y_i_j))\n",
        "except Exception as e:\n",
        "    print('e', e)"
      ]
    },
    {
      "attachments": {},
      "cell_type": "markdown",
      "metadata": {
        "id": "nKfvNVtg6DAJ"
      },
      "source": [
        "**Kết quả mong đợi** \n",
        "\n",
        "```python\n",
        "[[111   7  19  46]\n",
        " [127  16 124   2]]\n",
        "\n",
        "```\n",
        "\n"
      ]
    }
  ],
  "metadata": {
    "accelerator": "GPU",
    "colab": {
      "gpuType": "T4",
      "machine_shape": "hm",
      "provenance": []
    },
    "kernelspec": {
      "display_name": "Python 3",
      "name": "python3"
    },
    "language_info": {
      "codemirror_mode": {
        "name": "ipython",
        "version": 3
      },
      "file_extension": ".py",
      "mimetype": "text/x-python",
      "name": "python",
      "nbconvert_exporter": "python",
      "pygments_lexer": "ipython3",
      "version": "3.9.17"
    }
  },
  "nbformat": 4,
  "nbformat_minor": 0
}
