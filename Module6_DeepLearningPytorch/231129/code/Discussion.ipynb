{
 "cells": [
  {
   "cell_type": "code",
   "execution_count": 2,
   "id": "caeafa51-e3fd-4e63-bb41-ce37be424619",
   "metadata": {},
   "outputs": [
    {
     "name": "stdout",
     "output_type": "stream",
     "text": [
      "[1, 2, 3, 4]\n"
     ]
    }
   ],
   "source": [
    "data = [1, 2, 3, 4]\n",
    "print(data[:10])"
   ]
  },
  {
   "cell_type": "code",
   "execution_count": 3,
   "id": "99f65e5e-07a0-4c89-8cdc-9b5c43c2c00c",
   "metadata": {},
   "outputs": [
    {
     "name": "stdout",
     "output_type": "stream",
     "text": [
      "[1, 2, 3, 4, 1, 2, 3, 4]\n"
     ]
    }
   ],
   "source": [
    "data = [1, 2, 3, 4]\n",
    "print(data*2)"
   ]
  },
  {
   "cell_type": "code",
   "execution_count": 4,
   "id": "3b68dee1-cc15-430a-b5d3-b770da0db7db",
   "metadata": {},
   "outputs": [
    {
     "name": "stdout",
     "output_type": "stream",
     "text": [
      "[]\n"
     ]
    }
   ],
   "source": [
    "data = [1, 2, 3, 4]\n",
    "print(data*0)"
   ]
  },
  {
   "cell_type": "code",
   "execution_count": 5,
   "id": "30090fde-8c2b-4b48-921e-f0b38d581970",
   "metadata": {},
   "outputs": [
    {
     "name": "stdout",
     "output_type": "stream",
     "text": [
      "[]\n"
     ]
    }
   ],
   "source": [
    "data = [1, 2, 3, 4]\n",
    "print(data*-1)"
   ]
  },
  {
   "cell_type": "code",
   "execution_count": 7,
   "id": "68888c3d-ba27-4a23-b7d1-762b9abccd32",
   "metadata": {},
   "outputs": [],
   "source": [
    "import torch\n",
    "import torch.nn as nn\n",
    "\n",
    "class TextClsModel(nn.Module):\n",
    "    def __init__(self, vocab_size=8, \n",
    "                 emb_dim=4, hidden_dim=3):\n",
    "        super().__init__()\n",
    "        self.embedding = nn.Embedding(vocab_size, \n",
    "                                      emb_dim)\n",
    "        self.rnn = nn.RNN(emb_dim, hidden_dim, \n",
    "                          batch_first=True)\n",
    "        self.fc = nn.Linear(hidden_dim, 1)\n",
    "\n",
    "    def forward(self, x):\n",
    "        x = self.embedding(x)\n",
    "        _, h_rnn = self.rnn(x)\n",
    "        last_h_rnn = h_rnn[-1,:,:] \n",
    "        x = self.fc(last_h_rnn)\n",
    "        return x\n",
    "\n",
    "model = TextClsModel(vocab_size=8, \n",
    "                     emb_dim=4, \n",
    "                     hidden_dim=3)"
   ]
  },
  {
   "cell_type": "code",
   "execution_count": 8,
   "id": "ae13be56-8985-4486-9582-a63fdb9f69da",
   "metadata": {},
   "outputs": [
    {
     "name": "stdout",
     "output_type": "stream",
     "text": [
      "==========================================================================================\n",
      "Layer (type:depth-idx)                   Output Shape              Param #\n",
      "==========================================================================================\n",
      "├─Embedding: 1-1                         [-1, 5, 4]                32\n",
      "├─RNN: 1-2                               [-1, 5, 3]                27\n",
      "├─Linear: 1-3                            [-1, 1]                   4\n",
      "==========================================================================================\n",
      "Total params: 63\n",
      "Trainable params: 63\n",
      "Non-trainable params: 0\n",
      "Total mult-adds (M): 0.00\n",
      "==========================================================================================\n",
      "Input size (MB): 0.00\n",
      "Forward/backward pass size (MB): 0.00\n",
      "Params size (MB): 0.00\n",
      "Estimated Total Size (MB): 0.00\n",
      "==========================================================================================\n"
     ]
    },
    {
     "data": {
      "text/plain": [
       "==========================================================================================\n",
       "Layer (type:depth-idx)                   Output Shape              Param #\n",
       "==========================================================================================\n",
       "├─Embedding: 1-1                         [-1, 5, 4]                32\n",
       "├─RNN: 1-2                               [-1, 5, 3]                27\n",
       "├─Linear: 1-3                            [-1, 1]                   4\n",
       "==========================================================================================\n",
       "Total params: 63\n",
       "Trainable params: 63\n",
       "Non-trainable params: 0\n",
       "Total mult-adds (M): 0.00\n",
       "==========================================================================================\n",
       "Input size (MB): 0.00\n",
       "Forward/backward pass size (MB): 0.00\n",
       "Params size (MB): 0.00\n",
       "Estimated Total Size (MB): 0.00\n",
       "=========================================================================================="
      ]
     },
     "execution_count": 8,
     "metadata": {},
     "output_type": "execute_result"
    }
   ],
   "source": [
    "from torchsummary import summary\n",
    "seq_length = 5\n",
    "random_tensor = torch.randint(low=0, high=8, \n",
    "                              size=(64, seq_length), \n",
    "                              dtype=torch.long)\n",
    "summary(model, random_tensor)"
   ]
  },
  {
   "cell_type": "code",
   "execution_count": null,
   "id": "b2f1f341-ecea-4f42-a087-1211985c056f",
   "metadata": {},
   "outputs": [],
   "source": []
  }
 ],
 "metadata": {
  "kernelspec": {
   "display_name": "Python 3 (ipykernel)",
   "language": "python",
   "name": "python3"
  },
  "language_info": {
   "codemirror_mode": {
    "name": "ipython",
    "version": 3
   },
   "file_extension": ".py",
   "mimetype": "text/x-python",
   "name": "python",
   "nbconvert_exporter": "python",
   "pygments_lexer": "ipython3",
   "version": "3.11.5"
  }
 },
 "nbformat": 4,
 "nbformat_minor": 5
}
