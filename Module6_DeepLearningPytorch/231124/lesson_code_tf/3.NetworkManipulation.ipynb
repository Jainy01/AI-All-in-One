{
 "cells": [
  {
   "cell_type": "code",
   "execution_count": 13,
   "metadata": {},
   "outputs": [
    {
     "name": "stdout",
     "output_type": "stream",
     "text": [
      "Model: \"sequential_6\"\n",
      "_________________________________________________________________\n",
      " Layer (type)                Output Shape              Param #   \n",
      "=================================================================\n",
      " conv2d_12 (Conv2D)          (None, 26, 26, 1)         10        \n",
      "                                                                 \n",
      " conv2d_13 (Conv2D)          (None, 18, 18, 1)         82        \n",
      "                                                                 \n",
      " flatten_6 (Flatten)         (None, 324)               0         \n",
      "                                                                 \n",
      " dense_6 (Dense)             (None, 2)                 650       \n",
      "                                                                 \n",
      "=================================================================\n",
      "Total params: 742\n",
      "Trainable params: 742\n",
      "Non-trainable params: 0\n",
      "_________________________________________________________________\n"
     ]
    }
   ],
   "source": [
    "# LeNet-like\n",
    "import tensorflow as tf\n",
    "\n",
    "# model architecture\n",
    "model = tf.keras.Sequential()\n",
    "model.add(tf.keras.Input(shape=(28, 28, 1)))\n",
    "# convolution and max pooling\n",
    "model.add(tf.keras.layers.Conv2D(1, (3,3), activation='relu')) \n",
    "# convolution and max pooling\n",
    "model.add(tf.keras.layers.Conv2D(filters=1, kernel_size=9, activation='relu'))\n",
    "# Flatten\n",
    "model.add(tf.keras.layers.Flatten())\n",
    "# fully connected\n",
    "model.add(tf.keras.layers.Dense(2, activation='softmax'))\n",
    "\n",
    "# model summary\n",
    "model.summary()"
   ]
  },
  {
   "cell_type": "code",
   "execution_count": 15,
   "metadata": {},
   "outputs": [
    {
     "name": "stdout",
     "output_type": "stream",
     "text": [
      "Model: \"sequential_6\"\n",
      "_________________________________________________________________\n",
      " Layer (type)                Output Shape              Param #   \n",
      "=================================================================\n",
      " conv2d_12 (Conv2D)          (None, 26, 26, 1)         10        \n",
      "                                                                 \n",
      " conv2d_13 (Conv2D)          (None, 18, 18, 1)         82        \n",
      "                                                                 \n",
      " flatten_6 (Flatten)         (None, 324)               0         \n",
      "                                                                 \n",
      " dense_6 (Dense)             (None, 2)                 650       \n",
      "                                                                 \n",
      "=================================================================\n",
      "Total params: 742\n",
      "Trainable params: 650\n",
      "Non-trainable params: 92\n",
      "_________________________________________________________________\n"
     ]
    }
   ],
   "source": [
    "model.summary()"
   ]
  },
  {
   "cell_type": "code",
   "execution_count": 18,
   "metadata": {},
   "outputs": [],
   "source": [
    "model.trainable = False"
   ]
  },
  {
   "cell_type": "code",
   "execution_count": null,
   "metadata": {},
   "outputs": [],
   "source": []
  },
  {
   "cell_type": "code",
   "execution_count": null,
   "metadata": {},
   "outputs": [],
   "source": [
    "# LeNet-like\n",
    "import tensorflow as tf\n",
    "\n",
    "# construct network\n",
    "inputs = tf.keras.Input(shape=(28, 28, 1))\n",
    "\n",
    "x = tf.keras.layers.Conv2D(6, (3,3), padding='same', activation='relu')(inputs)\n",
    "x = tf.keras.layers.MaxPooling2D(pool_size=2)(x)\n",
    "\n",
    "x = tf.keras.layers.Conv2D(filters=16, kernel_size=5, activation='relu')(x)\n",
    "x = tf.keras.layers.MaxPooling2D(pool_size=2)(x)\n",
    "\n",
    "x = tf.keras.layers.Flatten()(x)\n",
    "\n",
    "x = tf.keras.layers.Dense(120, activation='relu')(x)\n",
    "x = tf.keras.layers.Dense(84, activation='relu')(x)\n",
    "x = tf.keras.layers.Dense(10, activation='softmax')(x)\n",
    "\n",
    "model = tf.keras.Model(inputs, x)\n",
    "model.summary()"
   ]
  },
  {
   "cell_type": "code",
   "execution_count": null,
   "metadata": {},
   "outputs": [],
   "source": [
    "print(type(model.layers))\n",
    "print(len(model.layers))"
   ]
  },
  {
   "cell_type": "code",
   "execution_count": null,
   "metadata": {},
   "outputs": [],
   "source": []
  },
  {
   "cell_type": "code",
   "execution_count": null,
   "metadata": {},
   "outputs": [],
   "source": [
    "# LeNet-like\n",
    "import tensorflow as tf\n",
    "\n",
    "# model architecture\n",
    "model = tf.keras.Sequential()\n",
    "model.add(tf.keras.Input(shape=(28, 28, 1)))\n",
    "\n",
    "# convolution and max pooling\n",
    "model.add(tf.keras.layers.Conv2D(6, (3,3), padding='same', activation='relu')) \n",
    "model.add(tf.keras.layers.MaxPooling2D(pool_size=2))\n",
    "\n",
    "# convolution and max pooling\n",
    "model.add(tf.keras.layers.Conv2D(filters=16, kernel_size=5, activation='relu'))\n",
    "model.add(tf.keras.layers.MaxPooling2D(pool_size=2))\n",
    "\n",
    "# Flatten\n",
    "model.add(tf.keras.layers.Flatten())\n",
    "\n",
    "# fully connected\n",
    "model.add(tf.keras.layers.Dense(120, activation='relu'))\n",
    "model.add(tf.keras.layers.Dense(84, activation='relu'))\n",
    "model.add(tf.keras.layers.Dense(10, activation='softmax'))\n",
    "\n",
    "# print info\n",
    "for layer in model.layers:\n",
    "    print(layer.name, '-', layer.trainable)"
   ]
  },
  {
   "cell_type": "code",
   "execution_count": null,
   "metadata": {},
   "outputs": [],
   "source": []
  },
  {
   "cell_type": "code",
   "execution_count": null,
   "metadata": {},
   "outputs": [],
   "source": [
    "model.trainable = False\n",
    "for layer in model.layers:\n",
    "    print(layer.name, '-', layer.trainable)"
   ]
  },
  {
   "cell_type": "code",
   "execution_count": null,
   "metadata": {},
   "outputs": [],
   "source": []
  },
  {
   "cell_type": "code",
   "execution_count": null,
   "metadata": {},
   "outputs": [],
   "source": [
    "# LeNet-like\n",
    "import tensorflow as tf\n",
    "\n",
    "# model architecture\n",
    "model = tf.keras.Sequential()\n",
    "model.add(tf.keras.Input(shape=(28, 28, 1)))\n",
    "\n",
    "# convolution and max pooling\n",
    "model.add(tf.keras.layers.Conv2D(6, (3,3), padding='same', activation='relu')) \n",
    "model.add(tf.keras.layers.MaxPooling2D(pool_size=2))\n",
    "\n",
    "# convolution and max pooling\n",
    "model.add(tf.keras.layers.Conv2D(filters=16, kernel_size=5, activation='relu'))\n",
    "model.add(tf.keras.layers.MaxPooling2D(pool_size=2))\n",
    "\n",
    "# Flatten\n",
    "model.add(tf.keras.layers.Flatten())\n",
    "\n",
    "# fully connected\n",
    "model.add(tf.keras.layers.Dense(120, activation='relu'))\n",
    "model.add(tf.keras.layers.Dense(84, activation='relu'))\n",
    "model.add(tf.keras.layers.Dense(10, activation='softmax'))"
   ]
  },
  {
   "cell_type": "code",
   "execution_count": null,
   "metadata": {},
   "outputs": [],
   "source": [
    "# number of layers\n",
    "print('Number of layers is ', len(model.layers), '\\n')\n",
    "\n",
    "# freeze some layers\n",
    "model.layers[0].trainable = False\n",
    "model.layers[5].trainable = False\n",
    "\n",
    "for layer in model.layers:\n",
    "    print(layer.name, '-', layer.trainable)"
   ]
  },
  {
   "cell_type": "code",
   "execution_count": null,
   "metadata": {},
   "outputs": [],
   "source": []
  },
  {
   "cell_type": "code",
   "execution_count": null,
   "metadata": {},
   "outputs": [],
   "source": [
    "# LeNet-like\n",
    "import tensorflow as tf\n",
    "\n",
    "# model architecture\n",
    "model = tf.keras.Sequential()\n",
    "model.add(tf.keras.Input(shape=(28, 28, 1)))\n",
    "\n",
    "# convolution and max pooling\n",
    "model.add(tf.keras.layers.Conv2D(6, (3,3), padding='same', activation='relu')) \n",
    "model.add(tf.keras.layers.MaxPooling2D(pool_size=2))\n",
    "\n",
    "# convolution and max pooling\n",
    "model.add(tf.keras.layers.Conv2D(filters=16, kernel_size=5, activation='relu'))\n",
    "model.add(tf.keras.layers.MaxPooling2D(pool_size=2))\n",
    "\n",
    "# Flatten\n",
    "model.add(tf.keras.layers.Flatten())\n",
    "\n",
    "# fully connected\n",
    "model.add(tf.keras.layers.Dense(120, activation='relu'))\n",
    "model.add(tf.keras.layers.Dense(84, activation='relu'))\n",
    "model.add(tf.keras.layers.Dense(10, activation='softmax'))"
   ]
  },
  {
   "cell_type": "code",
   "execution_count": null,
   "metadata": {},
   "outputs": [],
   "source": [
    "# number of layers\n",
    "print('Number of layers is ', len(model.layers), '\\n')\n",
    "\n",
    "# freeze some last layers\n",
    "for layer in model.layers[:5]:\n",
    "    layer.trainable = False\n",
    "\n",
    "for layer in model.layers:\n",
    "    print(layer.name, '-', layer.trainable)"
   ]
  },
  {
   "cell_type": "code",
   "execution_count": null,
   "metadata": {},
   "outputs": [],
   "source": []
  },
  {
   "cell_type": "code",
   "execution_count": null,
   "metadata": {},
   "outputs": [],
   "source": []
  },
  {
   "cell_type": "code",
   "execution_count": null,
   "metadata": {},
   "outputs": [],
   "source": [
    "# A network\n",
    "import tensorflow as tf\n",
    "\n",
    "# model architecture\n",
    "model = tf.keras.Sequential()\n",
    "model.add(tf.keras.Input(shape=(5, 5, 1)))\n",
    "model.add(tf.keras.layers.Conv2D(1, (3,3), activation='relu'))\n",
    "model.add(tf.keras.layers.Conv2D(2, (3,3), activation='relu'))\n",
    "model.add(tf.keras.layers.Flatten())\n",
    "model.add(tf.keras.layers.Dense(2, activation='softmax'))\n",
    "\n",
    "# model summary\n",
    "model.summary()"
   ]
  },
  {
   "cell_type": "code",
   "execution_count": null,
   "metadata": {},
   "outputs": [],
   "source": [
    "print('Number of tensors is', \n",
    "      len(model.trainable_variables))\n",
    "\n",
    "for v in model.trainable_variables:\n",
    "    print(v.shape)"
   ]
  },
  {
   "cell_type": "code",
   "execution_count": null,
   "metadata": {},
   "outputs": [],
   "source": []
  },
  {
   "cell_type": "code",
   "execution_count": null,
   "metadata": {},
   "outputs": [],
   "source": []
  },
  {
   "cell_type": "code",
   "execution_count": null,
   "metadata": {},
   "outputs": [],
   "source": [
    "# A network\n",
    "import tensorflow as tf\n",
    "\n",
    "# model architecture\n",
    "model = tf.keras.Sequential()\n",
    "model.add(tf.keras.Input(shape=(5, 5, 1)))\n",
    "\n",
    "model.add(tf.keras.layers.Conv2D(1, (3,3), activation='relu'))\n",
    "model.add(tf.keras.layers.Conv2D(2, (3,3), activation='relu'))\n",
    "model.add(tf.keras.layers.Flatten())\n",
    "model.add(tf.keras.layers.Dense(2, activation='softmax'))\n",
    "\n",
    "\n",
    "# model summary\n",
    "model.summary()"
   ]
  },
  {
   "cell_type": "code",
   "execution_count": null,
   "metadata": {},
   "outputs": [],
   "source": []
  },
  {
   "cell_type": "code",
   "execution_count": null,
   "metadata": {},
   "outputs": [],
   "source": [
    "# freeze some last layers\n",
    "for layer in model.layers[:3]:\n",
    "    layer.trainable = False\n",
    "\n",
    "# model summary\n",
    "model.summary()"
   ]
  },
  {
   "cell_type": "code",
   "execution_count": null,
   "metadata": {},
   "outputs": [],
   "source": []
  }
 ],
 "metadata": {
  "kernelspec": {
   "display_name": "Python 3 (ipykernel)",
   "language": "python",
   "name": "python3"
  },
  "language_info": {
   "codemirror_mode": {
    "name": "ipython",
    "version": 3
   },
   "file_extension": ".py",
   "mimetype": "text/x-python",
   "name": "python",
   "nbconvert_exporter": "python",
   "pygments_lexer": "ipython3",
   "version": "3.9.13"
  }
 },
 "nbformat": 4,
 "nbformat_minor": 2
}
