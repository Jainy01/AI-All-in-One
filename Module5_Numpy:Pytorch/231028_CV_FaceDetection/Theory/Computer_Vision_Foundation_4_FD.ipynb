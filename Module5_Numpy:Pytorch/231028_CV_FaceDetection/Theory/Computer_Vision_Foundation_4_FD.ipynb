{
 "cells": [
  {
   "cell_type": "code",
   "execution_count": 1,
   "id": "3102e10b",
   "metadata": {},
   "outputs": [],
   "source": [
    "def close_window_os():\n",
    "    cv2.destroyAllWindows()\n",
    "    for i in range (1,5): #trick for closing the display window on macos\n",
    "        cv2.waitKey(1)"
   ]
  },
  {
   "cell_type": "code",
   "execution_count": null,
   "id": "e1c3f4f7",
   "metadata": {},
   "outputs": [],
   "source": []
  },
  {
   "cell_type": "code",
   "execution_count": 4,
   "id": "978f4264",
   "metadata": {},
   "outputs": [
    {
     "name": "stdout",
     "output_type": "stream",
     "text": [
      "Enter your name --> phuc\n"
     ]
    }
   ],
   "source": [
    "import os\n",
    "import cv2\n",
    "import pickle\n",
    "import numpy as np\n",
    "\n",
    "face_data = []\n",
    "i = 0\n",
    "\n",
    "camera = cv2.VideoCapture(0)\n",
    "\n",
    "facecascade = cv2.CascadeClassifier(cv2.data.haarcascades + 'haarcascade_frontalface_default.xml')\n",
    "\n",
    "name = input('Enter your name --> ')\n",
    "ret = True\n",
    "\n",
    "# Face recognition using Knn\n",
    "while(ret):\n",
    "    ret, frame = camera.read()\n",
    "    if ret == True:\n",
    "        gray = cv2.cvtColor(frame, cv2.COLOR_BGR2GRAY)\n",
    "\n",
    "        face_coordinates = facecascade.detectMultiScale(gray, 1.3, 4)\n",
    "\n",
    "        for (a, b, w, h) in face_coordinates:\n",
    "            faces = frame[b:b+h, a:a+w, :]\n",
    "            resized_faces = cv2.resize(faces, (50, 50))\n",
    "            \n",
    "            if i % 10 == 0 and len(face_data) < 10:\n",
    "                face_data.append(resized_faces)\n",
    "            cv2.rectangle(frame, (a, b), (a+w, b+h), (255, 0, 0), 2)\n",
    "        i += 1\n",
    "\n",
    "        cv2.imshow('frames', frame)\n",
    "\n",
    "        if cv2.waitKey(1) == 27:\n",
    "            break\n",
    "    else:\n",
    "        print('error')\n",
    "        break\n",
    "    \n",
    "\n",
    "cv2.destroyAllWindows()\n",
    "camera.release()\n",
    "close_window_os()\n",
    "\n",
    "\n",
    "face_data = np.asarray(face_data)\n",
    "face_data = face_data.reshape(10, -1)\n",
    "\n",
    "\n",
    "\n",
    "if 'names.pkl' not in os.listdir('/Users/nguyendinhvinh2004gmail.com/Desktop/New_Data/De Cuong mon học/Machine Learning Course - VinhND/Week 4/QSTC/Computer Vision Foundation/Computer Vision Foundation - Session 4 - FD/theory/dataset/'):\n",
    "    names = [name]*10\n",
    "    with open('/Users/nguyendinhvinh2004gmail.com/Desktop/New_Data/De Cuong mon học/Machine Learning Course - VinhND/Week 4/QSTC/Computer Vision Foundation/Computer Vision Foundation - Session 4 - FD/theory/dataset/names.pkl', 'wb') as file:\n",
    "        pickle.dump(names, file)\n",
    "else:\n",
    "    with open('/Users/nguyendinhvinh2004gmail.com/Desktop/New_Data/De Cuong mon học/Machine Learning Course - VinhND/Week 4/QSTC/Computer Vision Foundation/Computer Vision Foundation - Session 4 - FD/theory/dataset/names.pkl', 'rb') as file:\n",
    "        names = pickle.load(file)\n",
    "\n",
    "    names = names + [name]*10\n",
    "    with open('/Users/nguyendinhvinh2004gmail.com/Desktop/New_Data/De Cuong mon học/Machine Learning Course - VinhND/Week 4/QSTC/Computer Vision Foundation/Computer Vision Foundation - Session 4 - FD/theory/dataset/names.pkl', 'wb') as file:\n",
    "        pickle.dump(names, file)\n",
    "\n",
    "\n",
    "if 'faces.pkl' not in os.listdir('/Users/nguyendinhvinh2004gmail.com/Desktop/New_Data/De Cuong mon học/Machine Learning Course - VinhND/Week 4/QSTC/Computer Vision Foundation/Computer Vision Foundation - Session 4 - FD/theory/dataset/'):\n",
    "    with open('/Users/nguyendinhvinh2004gmail.com/Desktop/New_Data/De Cuong mon học/Machine Learning Course - VinhND/Week 4/QSTC/Computer Vision Foundation/Computer Vision Foundation - Session 4 - FD/theory/dataset/faces.pkl', 'wb') as w:\n",
    "        pickle.dump(face_data, w)\n",
    "else:\n",
    "    with open('/Users/nguyendinhvinh2004gmail.com/Desktop/New_Data/De Cuong mon học/Machine Learning Course - VinhND/Week 4/QSTC/Computer Vision Foundation/Computer Vision Foundation - Session 4 - FD/theory/dataset/faces.pkl', 'rb') as w:\n",
    "        faces = pickle.load(w)\n",
    "\n",
    "    faces = np.append(faces, face_data, axis=0)\n",
    "    with open('/Users/nguyendinhvinh2004gmail.com/Desktop/New_Data/De Cuong mon học/Machine Learning Course - VinhND/Week 4/QSTC/Computer Vision Foundation/Computer Vision Foundation - Session 4 - FD/theory/dataset/faces.pkl', 'wb') as w:\n",
    "        pickle.dump(faces, w)"
   ]
  },
  {
   "cell_type": "code",
   "execution_count": 4,
   "id": "4b415551",
   "metadata": {},
   "outputs": [
    {
     "name": "stdout",
     "output_type": "stream",
     "text": [
      "(371, 371, 3)\n"
     ]
    }
   ],
   "source": [
    "print(faces.shape)"
   ]
  },
  {
   "cell_type": "code",
   "execution_count": 6,
   "id": "a90b8de9",
   "metadata": {},
   "outputs": [
    {
     "name": "stdout",
     "output_type": "stream",
     "text": [
      "(10, 7500)\n"
     ]
    }
   ],
   "source": [
    "with open('/Users/nguyendinhvinh2004gmail.com/Desktop/New_Data/De Cuong mon học/Machine Learning Course - VinhND/Week 4/QSTC/Computer Vision Foundation/Computer Vision Foundation - Session 4 - FD/theory/dataset/faces.pkl', 'rb') as w:\n",
    "    faces = pickle.load(w)\n",
    "    print(faces.shape)"
   ]
  },
  {
   "cell_type": "code",
   "execution_count": 3,
   "id": "94f0c235",
   "metadata": {},
   "outputs": [
    {
     "name": "stdout",
     "output_type": "stream",
     "text": [
      "Shape of Faces matrix -->  (30, 7500)\n"
     ]
    }
   ],
   "source": [
    "import cv2\n",
    "from sklearn.neighbors import KNeighborsClassifier\n",
    "import numpy as np\n",
    "import pickle\n",
    "\n",
    "facecascade = cv2.CascadeClassifier(cv2.data.haarcascades + 'haarcascade_frontalface_default.xml')\n",
    "\n",
    "with open('/Users/nguyendinhvinh2004gmail.com/Desktop/New_Data/De Cuong mon học/Machine Learning Course - VinhND/Week 4/QSTC/Computer Vision Foundation/Computer Vision Foundation - Session 4 - FD/theory/dataset/faces.pkl', 'rb') as w:\n",
    "    faces = pickle.load(w)\n",
    "\n",
    "with open('/Users/nguyendinhvinh2004gmail.com/Desktop/New_Data/De Cuong mon học/Machine Learning Course - VinhND/Week 4/QSTC/Computer Vision Foundation/Computer Vision Foundation - Session 4 - FD/theory/dataset/names.pkl', 'rb') as file:\n",
    "    labels = pickle.load(file)\n",
    "\n",
    "camera = cv2.VideoCapture(0)\n",
    "\n",
    "print('Shape of Faces matrix --> ', faces.shape)\n",
    "knn = KNeighborsClassifier(n_neighbors=5)\n",
    "knn.fit(faces,labels)\n",
    "\n",
    "# Face recognition using Knn\n",
    "while True:\n",
    "    ret, frame = camera.read()\n",
    "    if ret == True:\n",
    "        gray = cv2.cvtColor(frame, cv2.COLOR_BGR2GRAY)\n",
    "        face_coordinates = facecascade.detectMultiScale(gray, 1.3, 5)\n",
    "\n",
    "        for (a, b, w, h) in face_coordinates:\n",
    "            fc = frame[b:b + h, a:a + w, :]\n",
    "            r = cv2.resize(fc, (50, 50)).flatten().reshape(1,-1)\n",
    "            text = knn.predict(r)\n",
    "            cv2.putText(frame, text[0], (a, b-10), cv2.FONT_HERSHEY_SIMPLEX, 1, (255, 255, 0), 2)\n",
    "            cv2.rectangle(frame, (a, b), (a + w, b + w), (0, 0, 255), 2)\n",
    "\n",
    "        cv2.imshow('livetime face recognition', frame)\n",
    "        if cv2.waitKey(1) == 27:\n",
    "            break\n",
    "    else:\n",
    "        print(\"error\")\n",
    "        break\n",
    "\n",
    "cv2.destroyAllWindows()\n",
    "camera.release()\n",
    "close_window_os()"
   ]
  },
  {
   "cell_type": "code",
   "execution_count": 6,
   "id": "e2f50532",
   "metadata": {},
   "outputs": [
    {
     "name": "stdout",
     "output_type": "stream",
     "text": [
      "['Dr. Vinh Nguyen (AIO)', 'Dr. Vinh Nguyen (AIO)', 'Dr. Vinh Nguyen (AIO)', 'Dr. Vinh Nguyen (AIO)', 'Dr. Vinh Nguyen (AIO)', 'Dr. Vinh Nguyen (AIO)', 'Dr. Vinh Nguyen (AIO)', 'Dr. Vinh Nguyen (AIO)', 'Dr. Vinh Nguyen (AIO)', 'Dr. Vinh Nguyen (AIO)', 'President Obama', 'President Obama', 'President Obama', 'President Obama', 'President Obama', 'President Obama', 'President Obama', 'President Obama', 'President Obama', 'President Obama', 'phuc', 'phuc', 'phuc', 'phuc', 'phuc', 'phuc', 'phuc', 'phuc', 'phuc', 'phuc']\n"
     ]
    }
   ],
   "source": [
    "print(labels)"
   ]
  },
  {
   "cell_type": "code",
   "execution_count": 7,
   "id": "af8fa6d4",
   "metadata": {},
   "outputs": [
    {
     "name": "stdout",
     "output_type": "stream",
     "text": [
      "Shape of Faces matrix -->  (30, 7500)\n"
     ]
    }
   ],
   "source": [
    "import cv2\n",
    "from sklearn.svm import SVC\n",
    "import numpy as np\n",
    "import pickle\n",
    "\n",
    "facecascade = cv2.CascadeClassifier(cv2.data.haarcascades + 'haarcascade_frontalface_default.xml')\n",
    "\n",
    "with open('/Users/nguyendinhvinh2004gmail.com/Desktop/New_Data/De Cuong mon học/Machine Learning Course - VinhND/Week 4/QSTC/Computer Vision Foundation/Computer Vision Foundation - Session 4 - FD/theory/dataset/faces.pkl', 'rb') as w:\n",
    "    faces = pickle.load(w)\n",
    "\n",
    "with open('/Users/nguyendinhvinh2004gmail.com/Desktop/New_Data/De Cuong mon học/Machine Learning Course - VinhND/Week 4/QSTC/Computer Vision Foundation/Computer Vision Foundation - Session 4 - FD/theory/dataset/names.pkl', 'rb') as file:\n",
    "    labels = pickle.load(file)\n",
    "\n",
    "camera = cv2.VideoCapture(0)\n",
    "\n",
    "print('Shape of Faces matrix --> ', faces.shape)\n",
    "# knn = KNeighborsClassifier(n_neighbors=4)\n",
    "# knn.fit(faces,labels)\n",
    "\n",
    "svm = SVC(kernel=\"rbf\")\n",
    "svm.fit(faces, labels)\n",
    "\n",
    "# Face recognition using Knn\n",
    "while True:\n",
    "    ret, frame = camera.read()\n",
    "    if ret == True:\n",
    "        gray = cv2.cvtColor(frame, cv2.COLOR_BGR2GRAY)\n",
    "        face_coordinates = facecascade.detectMultiScale(gray, 1.3, 5)\n",
    "\n",
    "        for (a, b, w, h) in face_coordinates:\n",
    "            fc = frame[b:b + h, a:a + w, :]\n",
    "            r = cv2.resize(fc, (50, 50)).flatten().reshape(1,-1)\n",
    "            text = svm.predict(r)\n",
    "            cv2.putText(frame, text[0], (a, b-10), cv2.FONT_HERSHEY_SIMPLEX, 1, (255, 255, 0), 2)\n",
    "            cv2.rectangle(frame, (a, b), (a + w, b + w), (0, 0, 255), 2)\n",
    "\n",
    "        cv2.imshow('livetime face recognition', frame)\n",
    "        if cv2.waitKey(1) == 27:\n",
    "            break\n",
    "    else:\n",
    "        print(\"error\")\n",
    "        break\n",
    "\n",
    "cv2.destroyAllWindows()\n",
    "camera.release()\n",
    "close_window_os()"
   ]
  },
  {
   "cell_type": "code",
   "execution_count": 2,
   "id": "be780b57",
   "metadata": {},
   "outputs": [
    {
     "ename": "ValueError",
     "evalue": "Number of labels=40 does not match number of samples=30",
     "output_type": "error",
     "traceback": [
      "\u001b[0;31m---------------------------------------------------------------------------\u001b[0m",
      "\u001b[0;31mValueError\u001b[0m                                Traceback (most recent call last)",
      "Cell \u001b[0;32mIn[2], line 20\u001b[0m\n\u001b[1;32m     14\u001b[0m camera \u001b[38;5;241m=\u001b[39m cv2\u001b[38;5;241m.\u001b[39mVideoCapture(\u001b[38;5;241m0\u001b[39m)\n\u001b[1;32m     18\u001b[0m tree_clf \u001b[38;5;241m=\u001b[39m DecisionTreeClassifier(criterion\u001b[38;5;241m=\u001b[39m\u001b[38;5;124m'\u001b[39m\u001b[38;5;124mentropy\u001b[39m\u001b[38;5;124m'\u001b[39m,\n\u001b[1;32m     19\u001b[0m                                   max_depth\u001b[38;5;241m=\u001b[39m\u001b[38;5;241m2\u001b[39m)\n\u001b[0;32m---> 20\u001b[0m \u001b[43mtree_clf\u001b[49m\u001b[38;5;241;43m.\u001b[39;49m\u001b[43mfit\u001b[49m\u001b[43m(\u001b[49m\u001b[43mfaces\u001b[49m\u001b[43m,\u001b[49m\u001b[43m \u001b[49m\u001b[43mlabels\u001b[49m\u001b[43m)\u001b[49m\n\u001b[1;32m     22\u001b[0m \u001b[38;5;66;03m# Face recognition using Knn\u001b[39;00m\n\u001b[1;32m     23\u001b[0m \u001b[38;5;28;01mwhile\u001b[39;00m \u001b[38;5;28;01mTrue\u001b[39;00m:\n",
      "File \u001b[0;32m~/Library/Python/3.8/lib/python/site-packages/sklearn/base.py:1151\u001b[0m, in \u001b[0;36m_fit_context.<locals>.decorator.<locals>.wrapper\u001b[0;34m(estimator, *args, **kwargs)\u001b[0m\n\u001b[1;32m   1144\u001b[0m     estimator\u001b[38;5;241m.\u001b[39m_validate_params()\n\u001b[1;32m   1146\u001b[0m \u001b[38;5;28;01mwith\u001b[39;00m config_context(\n\u001b[1;32m   1147\u001b[0m     skip_parameter_validation\u001b[38;5;241m=\u001b[39m(\n\u001b[1;32m   1148\u001b[0m         prefer_skip_nested_validation \u001b[38;5;129;01mor\u001b[39;00m global_skip_validation\n\u001b[1;32m   1149\u001b[0m     )\n\u001b[1;32m   1150\u001b[0m ):\n\u001b[0;32m-> 1151\u001b[0m     \u001b[38;5;28;01mreturn\u001b[39;00m \u001b[43mfit_method\u001b[49m\u001b[43m(\u001b[49m\u001b[43mestimator\u001b[49m\u001b[43m,\u001b[49m\u001b[43m \u001b[49m\u001b[38;5;241;43m*\u001b[39;49m\u001b[43margs\u001b[49m\u001b[43m,\u001b[49m\u001b[43m \u001b[49m\u001b[38;5;241;43m*\u001b[39;49m\u001b[38;5;241;43m*\u001b[39;49m\u001b[43mkwargs\u001b[49m\u001b[43m)\u001b[49m\n",
      "File \u001b[0;32m~/Library/Python/3.8/lib/python/site-packages/sklearn/tree/_classes.py:959\u001b[0m, in \u001b[0;36mDecisionTreeClassifier.fit\u001b[0;34m(self, X, y, sample_weight, check_input)\u001b[0m\n\u001b[1;32m    928\u001b[0m \u001b[38;5;129m@_fit_context\u001b[39m(prefer_skip_nested_validation\u001b[38;5;241m=\u001b[39m\u001b[38;5;28;01mTrue\u001b[39;00m)\n\u001b[1;32m    929\u001b[0m \u001b[38;5;28;01mdef\u001b[39;00m \u001b[38;5;21mfit\u001b[39m(\u001b[38;5;28mself\u001b[39m, X, y, sample_weight\u001b[38;5;241m=\u001b[39m\u001b[38;5;28;01mNone\u001b[39;00m, check_input\u001b[38;5;241m=\u001b[39m\u001b[38;5;28;01mTrue\u001b[39;00m):\n\u001b[1;32m    930\u001b[0m \u001b[38;5;250m    \u001b[39m\u001b[38;5;124;03m\"\"\"Build a decision tree classifier from the training set (X, y).\u001b[39;00m\n\u001b[1;32m    931\u001b[0m \n\u001b[1;32m    932\u001b[0m \u001b[38;5;124;03m    Parameters\u001b[39;00m\n\u001b[0;32m   (...)\u001b[0m\n\u001b[1;32m    956\u001b[0m \u001b[38;5;124;03m        Fitted estimator.\u001b[39;00m\n\u001b[1;32m    957\u001b[0m \u001b[38;5;124;03m    \"\"\"\u001b[39;00m\n\u001b[0;32m--> 959\u001b[0m     \u001b[38;5;28;43msuper\u001b[39;49m\u001b[43m(\u001b[49m\u001b[43m)\u001b[49m\u001b[38;5;241;43m.\u001b[39;49m\u001b[43m_fit\u001b[49m\u001b[43m(\u001b[49m\n\u001b[1;32m    960\u001b[0m \u001b[43m        \u001b[49m\u001b[43mX\u001b[49m\u001b[43m,\u001b[49m\n\u001b[1;32m    961\u001b[0m \u001b[43m        \u001b[49m\u001b[43my\u001b[49m\u001b[43m,\u001b[49m\n\u001b[1;32m    962\u001b[0m \u001b[43m        \u001b[49m\u001b[43msample_weight\u001b[49m\u001b[38;5;241;43m=\u001b[39;49m\u001b[43msample_weight\u001b[49m\u001b[43m,\u001b[49m\n\u001b[1;32m    963\u001b[0m \u001b[43m        \u001b[49m\u001b[43mcheck_input\u001b[49m\u001b[38;5;241;43m=\u001b[39;49m\u001b[43mcheck_input\u001b[49m\u001b[43m,\u001b[49m\n\u001b[1;32m    964\u001b[0m \u001b[43m    \u001b[49m\u001b[43m)\u001b[49m\n\u001b[1;32m    965\u001b[0m     \u001b[38;5;28;01mreturn\u001b[39;00m \u001b[38;5;28mself\u001b[39m\n",
      "File \u001b[0;32m~/Library/Python/3.8/lib/python/site-packages/sklearn/tree/_classes.py:366\u001b[0m, in \u001b[0;36mBaseDecisionTree._fit\u001b[0;34m(self, X, y, sample_weight, check_input, missing_values_in_feature_mask)\u001b[0m\n\u001b[1;32m    363\u001b[0m max_leaf_nodes \u001b[38;5;241m=\u001b[39m \u001b[38;5;241m-\u001b[39m\u001b[38;5;241m1\u001b[39m \u001b[38;5;28;01mif\u001b[39;00m \u001b[38;5;28mself\u001b[39m\u001b[38;5;241m.\u001b[39mmax_leaf_nodes \u001b[38;5;129;01mis\u001b[39;00m \u001b[38;5;28;01mNone\u001b[39;00m \u001b[38;5;28;01melse\u001b[39;00m \u001b[38;5;28mself\u001b[39m\u001b[38;5;241m.\u001b[39mmax_leaf_nodes\n\u001b[1;32m    365\u001b[0m \u001b[38;5;28;01mif\u001b[39;00m \u001b[38;5;28mlen\u001b[39m(y) \u001b[38;5;241m!=\u001b[39m n_samples:\n\u001b[0;32m--> 366\u001b[0m     \u001b[38;5;28;01mraise\u001b[39;00m \u001b[38;5;167;01mValueError\u001b[39;00m(\n\u001b[1;32m    367\u001b[0m         \u001b[38;5;124m\"\u001b[39m\u001b[38;5;124mNumber of labels=\u001b[39m\u001b[38;5;132;01m%d\u001b[39;00m\u001b[38;5;124m does not match number of samples=\u001b[39m\u001b[38;5;132;01m%d\u001b[39;00m\u001b[38;5;124m\"\u001b[39m\n\u001b[1;32m    368\u001b[0m         \u001b[38;5;241m%\u001b[39m (\u001b[38;5;28mlen\u001b[39m(y), n_samples)\n\u001b[1;32m    369\u001b[0m     )\n\u001b[1;32m    371\u001b[0m \u001b[38;5;28;01mif\u001b[39;00m sample_weight \u001b[38;5;129;01mis\u001b[39;00m \u001b[38;5;129;01mnot\u001b[39;00m \u001b[38;5;28;01mNone\u001b[39;00m:\n\u001b[1;32m    372\u001b[0m     sample_weight \u001b[38;5;241m=\u001b[39m _check_sample_weight(sample_weight, X, DOUBLE)\n",
      "\u001b[0;31mValueError\u001b[0m: Number of labels=40 does not match number of samples=30"
     ]
    }
   ],
   "source": [
    "import cv2\n",
    "from sklearn.tree import DecisionTreeClassifier\n",
    "import numpy as np\n",
    "import pickle\n",
    "\n",
    "facecascade = cv2.CascadeClassifier(cv2.data.haarcascades + 'haarcascade_frontalface_default.xml')\n",
    "\n",
    "with open('/Users/nguyendinhvinh2004gmail.com/Desktop/New_Data/De Cuong mon học/Machine Learning Course - VinhND/Week 4/QSTC/Computer Vision Foundation/Computer Vision Foundation - Session 4 - FD/theory/dataset/faces.pkl', 'rb') as w:\n",
    "    faces = pickle.load(w)\n",
    "\n",
    "with open('/Users/nguyendinhvinh2004gmail.com/Desktop/New_Data/De Cuong mon học/Machine Learning Course - VinhND/Week 4/QSTC/Computer Vision Foundation/Computer Vision Foundation - Session 4 - FD/theory/dataset/names.pkl', 'rb') as file:\n",
    "    labels = pickle.load(file)\n",
    "\n",
    "camera = cv2.VideoCapture(0)\n",
    "\n",
    "\n",
    "\n",
    "tree_clf = DecisionTreeClassifier(criterion='entropy',\n",
    "                                  max_depth=2)\n",
    "tree_clf.fit(faces, labels)\n",
    "\n",
    "# Face recognition using Knn\n",
    "while True:\n",
    "    ret, frame = camera.read()\n",
    "    if ret == True:\n",
    "        gray = cv2.cvtColor(frame, cv2.COLOR_BGR2GRAY)\n",
    "        face_coordinates = facecascade.detectMultiScale(gray, 1.3, 5)\n",
    "\n",
    "        for (a, b, w, h) in face_coordinates:\n",
    "            fc = frame[b:b + h, a:a + w, :]\n",
    "            r = cv2.resize(fc, (50, 50)).flatten().reshape(1,-1)\n",
    "            text = tree_clf.predict(r)\n",
    "            cv2.putText(frame, text[0], (a, b-10), cv2.FONT_HERSHEY_SIMPLEX, 1, (255, 255, 0), 2)\n",
    "            cv2.rectangle(frame, (a, b), (a + w, b + w), (0, 0, 255), 2)\n",
    "\n",
    "        cv2.imshow('livetime face recognition', frame)\n",
    "        if cv2.waitKey(1) == 27:\n",
    "            break\n",
    "    else:\n",
    "        print(\"error\")\n",
    "        break\n",
    "\n",
    "cv2.destroyAllWindows()\n",
    "camera.release()\n",
    "close_window_os()"
   ]
  },
  {
   "cell_type": "code",
   "execution_count": null,
   "id": "cf9a82ec",
   "metadata": {},
   "outputs": [],
   "source": []
  }
 ],
 "metadata": {
  "kernelspec": {
   "display_name": "Python 3 (ipykernel)",
   "language": "python",
   "name": "python3"
  },
  "language_info": {
   "codemirror_mode": {
    "name": "ipython",
    "version": 3
   },
   "file_extension": ".py",
   "mimetype": "text/x-python",
   "name": "python",
   "nbconvert_exporter": "python",
   "pygments_lexer": "ipython3",
   "version": "3.8.2"
  }
 },
 "nbformat": 4,
 "nbformat_minor": 5
}
